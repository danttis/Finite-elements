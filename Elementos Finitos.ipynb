{
 "cells": [
  {
   "cell_type": "markdown",
   "metadata": {},
   "source": [
    "# Método dos Elementos Finitos\n",
    "\n"
   ]
  },
  {
   "cell_type": "markdown",
   "metadata": {},
   "source": [
    "\n",
    "\n",
    "### O problema a ser resolvido envolve o deslocamento de uma barra de seção transversal uniforme e biapoiada, com extremidades fixas.\n",
    "<div style=\"display: flex; justify-content: center;\">\n",
    "  <img src=\"barra.png\" alt=\"Imagem 1\" style=\"width: 45%; margin-right: 5px;\">\n",
    "  <img src=\"barra2.png\" alt=\"Imagem 2\" style=\"width: 45%; margin-left: 5px;\">\n",
    "</div>\n",
    "\n",
    " Considere o seguinte problema de valor de contorno:\n",
    "\n",
    "$$\n",
    "-\\frac{d^2u}{dx^2} - u(x) + x^2 = 0, \\quad 0 \\leq x \\leq 1\n",
    "$$\n",
    "com condições de contorno\n",
    "$\n",
    "u(0) = 0 \\quad \\text{e} \\quad u(1) = 0.\n",
    "$ <br>\n",
    "Forma fraca: \n",
    "$$\n",
    "\\int_0^1 \\frac{dw}{dx} \\frac{du}{dx} dx - \\int_0^1 u(x) w(x) dx + \\int_0^1 x^2 w(x) dx = 0\n",
    "$$\n",
    "\n"
   ]
  },
  {
   "cell_type": "markdown",
   "metadata": {},
   "source": [
    "Para resolver este problema utilizando dois elementos finitos com funções de forma quadráticas (cada elemento com três nós), é necessário realizar a discretização do domínio em dois elementos. A solução aproximada será então comparada com a solução exata, bem como com a solução obtida por aproximações lineares (embora não esteja disponível, pois é análoga, exceto pela mudança nas funções de forma e pela individualização dos elementos), e será também comparada com a solução obtida via diferenças finitas usando a mesma discretização do domínio. <br>\n",
    "Para maior cobertura sobre o assunto é sugerido o minicurso [Introdução ao Método dos Elementos Finitos](https://www.youtube.com/watch?v=VyT2uYMYbuk)"
   ]
  },
  {
   "cell_type": "markdown",
   "metadata": {},
   "source": [
    "#### Funções de forma:\n",
    "Funções de forma $L_{e_1}$, $L_{e_2}$, $L_{e_3}$:\n",
    "- $L_{e_1}(x) = (1-2x)(1-4x)$\n",
    "- $L_{e_2}(x) = 8x(1-2x)$\n",
    "- $L_{e_3}(x) = -2x(1-4x)$\n",
    "\n",
    "Derivadas das funções de forma $DLe_1$, $DLe_2$, $DLe_3$:\n",
    "- $DLe_1(x) = 16x - 6$\n",
    "- $DLe_2(x) = 8(1-4x)$\n",
    "- $DLe_3(x) = -2(1-8x)$\n",
    "\n"
   ]
  },
  {
   "cell_type": "markdown",
   "metadata": {},
   "source": [
    "#### Matriz de rigidez\n",
    "\n",
    "Cálculo dos elementos da linha 1\n",
    "\n",
    "- $k_{11}= \\int_{0}^{0.5} ((16x - 6)^2 - (1-2x)(1-4x)^2) \\, dx$\n",
    "- $k_{12}= \\int_{0}^{0.5} ((16x - 6) \\cdot (8(1-4x)) - (1-2x) \\cdot (8x(1-2x))) \\, dx$\n",
    "- $k_{13}= \\int_{0}^{0.5} ((16x - 6) \\cdot (-2(1-8x)) - (1-2x) \\cdot (-2x(1-4x))) \\, dx$\n",
    "\n",
    "Cálculo dos elementos da linha 2\n",
    "\n",
    "- $k_{21}= \\int_{0}^{0.5} ((8(1-4x)) \\cdot (16x - 6) - (8x(1-2x)) \\cdot (1-2x)) \\, dx$\n",
    "- $k_{22}= \\int_{0}^{0.5} ((8(1-4x))^2 - (8x(1-2x))^2) \\, dx$\n",
    "- $k_{23}= \\int_{0}^{0.5} ((8(1-4x)) \\cdot (-2(1-8x)) - (8x(1-2x)) \\cdot (-2x(1-4x))) \\, dx$\n",
    "\n",
    "Cálculo dos elementos da linha 3\n",
    "\n",
    "- $k_{31}= \\int_{0}^{0.5} ((-2(1-8x)) \\cdot (16x - 6) - (-2x(1-4x)) \\cdot (1-2x)) \\, dx$\n",
    "- $k_{32}= \\int_{0}^{0.5} ((-2(1-8x)) \\cdot (8(1-4x)) - (-2x(1-4x)) \\cdot (8x(1-2x))) \\, dx$\n",
    "- $k_{33}= \\int_{0}^{0.5} ((-2(1-8x))^2 - (-2x(1-4x))^2) \\, dx$\n",
    "\n",
    "</br> \n",
    "Assim temos as matriz locais: \n",
    "\n",
    "$\n",
    "\\begin{bmatrix}\n",
    "-4.6 & 5.36666667 & -0.68333333 \\\\\n",
    "5.36666667 & -10.4 & 5.36666667 \\\\\n",
    "-0.68333333 & 5.36666667 & -4.6 \\\\\n",
    "\\end{bmatrix}\n",
    "$\n",
    "\n",
    "\n",
    "\n"
   ]
  },
  {
   "cell_type": "markdown",
   "metadata": {},
   "source": [
    "#### Matriz de rigidez global\n",
    "Como os elementos são equidistante a matrix de rigidez local é a mesma para os dois elementos finitos, então temos:\n",
    "\n",
    "$\n",
    "K = \\begin{bmatrix}\n",
    "K_{11} & K_{12} & K_{13} & 0 & 0 \\\\\n",
    "K_{21} & K_{22} & K_{23} & 0 & 0 \\\\\n",
    "K_{31} & K_{32} & K_{33} + K_{11}  & K_{12} & K_{13}  \\\\\n",
    "0 & 0  & K_{21}  & K_{22} & K_{23} \\\\\n",
    "0 & 0  & K_{31} & K_{32} & K_{33}\n",
    "\\end{bmatrix}  \n",
    "$ = $\n",
    "\\begin{bmatrix}\n",
    "-4.6 & 5.36666667 & -0.68333333 & 0 & 0 \\\\\n",
    "5.36666667 & -10.4 & 5.36666667 & 0 & 0 \\\\\n",
    "-0.68333333 & 5.36666667 & -9.2 & 5.36666667 & -0.68333333 \\\\\n",
    "0 & 0 & 5.36666667 & -10.4 & 5.36666667 \\\\\n",
    "0 & 0 & -0.68333333 & 5.36666667 & -4.6 \\\\\n",
    "\\end{bmatrix}\n",
    "$\n",
    " \n"
   ]
  },
  {
   "cell_type": "markdown",
   "metadata": {},
   "source": [
    "#### Vetores de Força ($F_{e_s}$)\n",
    "\n",
    "Cálculo dos vetores de força do primeiro elemento:\n",
    "\n",
    "- $Fe_{11} = \\int_{0}^{0.5} ((1-2x)(1-4x) \\cdot (-x^2)) \\, dx$\n",
    "- $Fe_{21} = \\int_{0}^{0.5} (8x(1-2x) \\cdot (-x^2)) \\, dx$\n",
    "- $Fe_{31} = \\int_{0}^{0.5} (-2x(1-4x) \\cdot (-x^2)) \\, dx$\n",
    "\n",
    "Cálculo dos vetores de força do segundo elemento:\n",
    "\n",
    "- $Fe_{12} = \\int_{0}^{0.5} (-(1-2x)(1-4x) \\cdot (-(x+0.5)^2)) \\, dx$\n",
    "- $Fe_{22} = \\int_{0}^{0.5} (8x(1-2x) \\cdot (-(x+0.5)^2)) \\, dx$\n",
    "- $Fe_{32} = \\int_{0}^{0.5} (-2x(1-4x) \\cdot (-(x+0.5)^2)) \\, dx$\n"
   ]
  },
  {
   "cell_type": "markdown",
   "metadata": {},
   "source": [
    "Assim temos :  <br>\n",
    "$$\n",
    "K = \\begin{bmatrix}\n",
    "K_{11} & K_{12} & K_{13} & 0 & 0 \\\\\n",
    "K_{21} & K_{22} & K_{23} & 0 & 0 \\\\\n",
    "K_{31} & K_{32} & K_{33} + K_{11}  & K_{12} & K_{13}  \\\\\n",
    "0 & 0  & K_{21}  & K_{22} & K_{23} \\\\\n",
    "0 & 0  & K_{31} & K_{32} & K_{33}\n",
    "\\end{bmatrix}  \n",
    " = \n",
    "\n",
    "\\begin{bmatrix}\n",
    "Fe_{11} \\\\\n",
    "Fe_{21} \\\\\n",
    "Fe_{31} + Fe_{12} \\\\\n",
    "Fe_{22} \\\\\n",
    "Fe_{32} \\\\\n",
    "\\end{bmatrix}\n",
    "$$<br>\n",
    "\n",
    "$$\n",
    "\\begin{bmatrix}\n",
    "-4.6 & 5.36666667 & -0.68333333 & 0 & 0 \\\\\n",
    "5.36666667 & -10.4 & 5.36666667 & 0 & 0 \\\\\n",
    "-0.68333333 & 5.36666667 & -9.2 & 5.36666667 & -0.68333333 \\\\\n",
    "0 & 0 & 5.36666667 & -10.4 & 5.36666667 \\\\\n",
    "0 & 0 & -0.68333333 & 5.36666667 & -4.6 \\\\\n",
    "\\end{bmatrix}\n",
    " = \\begin{bmatrix}\n",
    "-0.00208333 \\\\\n",
    "0.025 \\\\\n",
    "0.0375 \\\\\n",
    "0.19166667 \\\\\n",
    "0.08125 \\\\\n",
    "\\end{bmatrix}$$\n"
   ]
  },
  {
   "cell_type": "markdown",
   "metadata": {},
   "source": [
    "Por conta das condições de controlo $u(0)=0$ e $u(1)=1$, o sistema é reduzido a uma matriz 3x3 \n",
    "$$ \\begin{bmatrix}\n",
    "-10.4 & 5.36666667 & 0 \\\\\n",
    "5.36666667 & -9.2 & 5.36666667 \\\\\n",
    "0 & 5.36666667 & -10.4 \\\\\n",
    "\\end{bmatrix} = \\begin{bmatrix}\n",
    "0.025 \\\\\n",
    "0.0375 \\\\\n",
    "0.19166667 \\\\\n",
    "\\end{bmatrix}$$\n",
    "\n",
    "<br><br> <br>\n",
    "Resolvendo o sistema temos: \n",
    "$u(1) = -0.02344691$, $u(2) = -0.04077911$, $u(3) = -0.03947255$ \n",
    "\n",
    " "
   ]
  },
  {
   "cell_type": "markdown",
   "metadata": {},
   "source": [
    "#### Resconstrução das soluções:\n",
    "$$U_{e}(x) = L_1(x)u_1 + L_2(x)u_2 + L_3(x)u_3$$\n",
    "- 1º elemento:  <br>\n",
    "$ \n",
    "8(x - 0.25)(x - 0.5) \\cdot 0 - 16(x)(x - 0.5) \\cdot -0.04077911 + 8(x)(x - 0.25) \\cdot -0.03947255= $ \n",
    "```0.33668536x²-0.24728778x ```\n",
    "\n",
    "\n",
    "- 2º elemento: <br>\n",
    "$\n",
    "8(x - 0.75) \\cdot -0.02344691  - 16(x-0.5)(x-1) \\cdot -0.04077911 + 8(x-0.5)(x-0.75) \\cdot 0 =$ ``0.65246576x²-1.16627392x+0.46691434``\n",
    "\n",
    "\n",
    "   \n"
   ]
  },
  {
   "cell_type": "markdown",
   "metadata": {},
   "source": [
    "### Implementação computacional das soluções por diferenças finitas, elementos finitos com funções de forma lineares e funções de forma quadráticas."
   ]
  },
  {
   "cell_type": "code",
   "execution_count": 13,
   "metadata": {},
   "outputs": [],
   "source": [
    "import pandas as pd\n",
    "import numpy as np\n",
    "from scipy.integrate import quad\n",
    "import plotly.graph_objects as go\n",
    "\n",
    "\n",
    "# diferenças finitas \n",
    "\n",
    "def p(x):\n",
    "    return 0\n",
    "\n",
    "def q(x):\n",
    "    return -1 \n",
    "\n",
    "def r(x):\n",
    "    return x**2\n",
    "\n",
    "def dif_finit(N=4,x0=0,y0=0,xf=1,yf=0):\n",
    "    delta_x = (xf-x0)/N\n",
    "    # print(delta_x)\n",
    "    vetor_x = np.linspace(x0+delta_x, xf - delta_x,N-1)\n",
    "    # print(vetor_x)\n",
    "    dimensao_Sistema = N-1\n",
    "    # print(dimensao_Sistema)\n",
    "    A = np.zeros((dimensao_Sistema,dimensao_Sistema))\n",
    "    b = np.zeros(dimensao_Sistema)\n",
    "    \n",
    "    for i in range(dimensao_Sistema):\n",
    "        x = vetor_x[i]\n",
    "        for j in range(dimensao_Sistema):\n",
    "            if i == j:\n",
    "                A[i][j] = 2 + q(x)*pow(delta_x,2)\n",
    "            elif i == (j +1):\n",
    "                A[i][j] = -1 - (p(x)*(delta_x))/2    \n",
    "            elif i == (j-1):\n",
    "                A[i][j] = -1 + (p(x)*(delta_x))/2\n",
    "            else:\n",
    "                A[i][j] = 0\n",
    "              \n",
    "    for i in range(dimensao_Sistema):\n",
    "        x = vetor_x[i]\n",
    "        if i == 0:\n",
    "            b[i] = (1 + (p(x)*(delta_x))/2)*y0 - r(x)*pow(delta_x,2)\n",
    "        elif i == (dimensao_Sistema-1):\n",
    "            b[i] = (1 - (p(x)*(delta_x))/2)*yf - r(x)*pow(delta_x,2) \n",
    "        else:\n",
    "            b[i] = -r(x)*pow(delta_x,2) \n",
    "    # print(A)  \n",
    "    # print(b)        \n",
    "    y = np.linalg.solve(A,b)\n",
    "    \n",
    "    return y.tolist()                                  "
   ]
  },
  {
   "cell_type": "code",
   "execution_count": 14,
   "metadata": {},
   "outputs": [],
   "source": [
    "###  Elementos finitos com funções de forma lineares:\n",
    "#Funções de forma\n",
    "def elementos_lienares(qtd):\n",
    "    def le1(x):\n",
    "        return (1-4*x)\n",
    "    def le2(x):\n",
    "        return (4*x)\n",
    "    # derivada das funções de forma\n",
    "    def dle1(x):\n",
    "        return -4\n",
    "    def dle2(x):\n",
    "        return 4\n",
    "\n",
    "    # Matriz de ridigez:\n",
    "    # 1º elemento\n",
    "    a,b = 0, 0.25\n",
    "    k11, _ = quad(lambda x: dle1(x) * dle1(x) - le1(x) * le1(x), a, b)\n",
    "    k12, _ =  quad(lambda x: dle1(x) * dle2(x) - le1(x) * le2(x), a, b)\n",
    "    k22, _ = quad(lambda x: dle2(x) * dle2(x) - le2(x) * le2(x), a, b)\n",
    "\n",
    "    K_l = np.array([[k11, k12],\n",
    "                [k12, k22]])\n",
    "\n",
    "\n",
    "    # Montagem da matriz:\n",
    "\n",
    "    def combinedmatrix(x, y):\n",
    "        lx = len(x)\n",
    "        ly = len(y)\n",
    "        tam = ((lx+ly) -1)\n",
    "        q = lx-1\n",
    "        new_matrix = np.zeros((tam,tam))\n",
    "        new_matrix[0:lx, 0:lx] = x\n",
    "        new_matrix[lx-1:tam, lx-1:tam] = y\n",
    "        new_matrix[q,q] = x[q,q] + y[0,0]\n",
    "\n",
    "        return new_matrix\n",
    "\n",
    "    def sume(lista):\n",
    "        primeiro =  lista[0]\n",
    "        ultimo = lista[-1]\n",
    "        novalista = lista[1:-1]\n",
    "        new_tmp = []\n",
    "        new_tmp.append(primeiro)\n",
    "        for i in range(0, len(novalista), 2):\n",
    "        # Verificando se há pelo menos dois elementos restantes para somar\n",
    "            if i + 1 < len(lista):\n",
    "                # Somando os elementos consecutivos\n",
    "                soma = novalista[i] + novalista[i + 1]\n",
    "                new_tmp.append(soma)\n",
    "        new_tmp.append(ultimo)\n",
    "\n",
    "        return new_tmp\n",
    "\n",
    "    def calcular_elementos(num_elementos):\n",
    "        elementos = []\n",
    "        h = 1/num_elementos \n",
    "        \n",
    "        for i in range(1, num_elementos + 1):\n",
    "            a = (i - 1) / num_elementos\n",
    "            b = i / num_elementos\n",
    "            \n",
    "            Fe1, _ = quad(lambda x: ((b - x) / h) * (-x**2), a, b)\n",
    "            Fe2, _ = quad(lambda x: ((x - a) / h) * (-x**2), a, b)\n",
    "            \n",
    "            elementos.append(Fe1)\n",
    "            elementos.append(Fe2)\n",
    "        \n",
    "        return elementos\n",
    "\n",
    "    def feis_cal(qtd):\n",
    "        f = calcular_elementos(qtd)\n",
    "        return sume(f)\n",
    "\n",
    "    def matri_global(qtd):\n",
    "        matrixt = None\n",
    "        for i in range(1,qtd-1):\n",
    "            if i == 1 :\n",
    "                matrixt = combinedmatrix(K_l,K_l)\n",
    "            matrixt = combinedmatrix(matrixt,K_l)\n",
    "        return matrixt\n",
    "\n",
    "# Multiplos elementos:\n",
    "\n",
    "    matrix_rigidez_global = matri_global(qtd)\n",
    "    feis = np.array([feis_cal(qtd)])\n",
    "    Ut = np.linalg.solve(matrix_rigidez_global[1:-1, 1:-1], feis[:, 1:-1].flatten())\n",
    "    return Ut.tolist()\n"
   ]
  },
  {
   "cell_type": "code",
   "execution_count": 15,
   "metadata": {},
   "outputs": [
    {
     "name": "stdout",
     "output_type": "stream",
     "text": [
      "matriz local \n",
      " [[ -4.6          5.36666667  -0.68333333]\n",
      " [  5.36666667 -10.4          5.36666667]\n",
      " [ -0.68333333   5.36666667  -4.6       ]] \n",
      "\n",
      "\n",
      "F [[-0.00208333  0.025       0.0375      0.19166667  0.08125   ]]\n",
      "\n",
      "\n",
      "\n",
      "Matriz de rigidez\n",
      " [[ -4.6          5.36666667  -0.68333333   0.           0.        ]\n",
      " [  5.36666667 -10.4          5.36666667   0.           0.        ]\n",
      " [ -0.68333333   5.36666667  -9.2          5.36666667  -0.68333333]\n",
      " [  0.           0.           5.36666667 -10.4          5.36666667]\n",
      " [  0.           0.          -0.68333333   5.36666667  -4.6       ]] \n",
      "\n",
      "Solução:  [-0.02344691 -0.04077911 -0.03947255]\n"
     ]
    }
   ],
   "source": [
    "# Elementos com funções de forma quadraticas\n",
    "#Funções de forma\n",
    "# hf é h1  ou h só que fixo para as funções me 0.5\n",
    "\n",
    "\n",
    "hf = 0.5\n",
    "def le1(x):\n",
    "    return (1-2*x)*(1-4*x)#(1-(x/hf))*(1-2*(x/hf))\n",
    "def le2(x):\n",
    "    return 8*x*(1-2*x)#4*(x/hf)*(1-(x/hf))\n",
    "def le3(x):\n",
    "    return -2*x*(1-4*x)#-(x/hf)*(1 - (2*x/hf))\n",
    "# derivada das funções de forma\n",
    "def dle1(x):\n",
    "    return (16*x - 6) #((4*x)/hf**2) - 3/hf\n",
    "def dle2(x):\n",
    "    return 8*(1-4*x) #(4/hf) * (1-2*(x/hf))\n",
    "def dle3(x):\n",
    "    return -2*(1-8*x)#-(1/hf) * (1- (4*x)/hf)\n",
    "\n",
    "# Matriz de ridigez local:\n",
    "# 1º elemento\n",
    "a,b = 0, 0.5\n",
    "# para k1 \n",
    "k11, _ = quad(lambda x: -(dle1(x) * dle1(x)) + le1(x) * le1(x), a, b)\n",
    "k12, _ = quad(lambda x: -(dle1(x) * dle2(x)) + le1(x) * le2(x), a, b)\n",
    "k13, _ = quad(lambda x: -(dle1(x) * dle3(x)) + le1(x) * le3(x), a, b)\n",
    "# para k2 \n",
    "k21, _ = quad(lambda  x: -(dle2(x) * dle1(x)) + le1(x) * le2(x), a, b)\n",
    "k22, _ = quad(lambda  x: -(dle2(x) * dle2(x) )+ le2(x) * le2(x), a, b)\n",
    "k23, _ = quad(lambda  x: -(dle2(x) * dle3(x)) + le2(x) * le3(x), a, b)\n",
    "# para k3\n",
    "k31, _ = quad(lambda  x: -(dle3(x) * dle1(x) )+ le3(x) * le1(x), a, b)\n",
    "k32, _ = quad(lambda  x: -(dle3(x) * dle2(x)) + le3(x) * le2(x), a, b)\n",
    "k33, _ = quad(lambda  x: -(dle3(x) * dle3(x)) + le3(x) * le3(x), a, b)\n",
    "\n",
    "\n",
    "K = np.array([[k11, k12, k13],\n",
    "              [k12, k22, k12],\n",
    "              [k31, k12, k11]])\n",
    "\n",
    "# Montagem da matriz global:\n",
    "\n",
    "def combinedmatrix(x, y):\n",
    "    lx = len(x)\n",
    "    ly = len(y)\n",
    "    tam = ((lx+ly) -1)\n",
    "    q = lx-1\n",
    "    new_matrix = np.zeros((tam,tam))\n",
    "    new_matrix[0:lx, 0:lx] = x\n",
    "    new_matrix[lx-1:tam, lx-1:tam] = y\n",
    "    new_matrix[q,q] = x[q,q] + y[0,0]\n",
    "\n",
    "    return new_matrix\n",
    "\n",
    "m1  = combinedmatrix(K, K)\n",
    "print(\"matriz local \\n\", K,\"\\n\\n\")\n",
    "\n",
    "# Calculando os Fei:\n",
    "#1º elemento: 0, 0,5\n",
    "a, b = 0, 0.5\n",
    "Fe11, _ = quad(lambda x: le1(x) * ((x**2)), a, b)\n",
    "Fe21, _ = quad(lambda x: le2(x) * ((x**2)), a, b)\n",
    "Fe31, _ = quad(lambda x: le3(x) * ((x**2)), a, b)\n",
    "#2º elemento: 0, 0,5\n",
    "# a = 0.5\n",
    "# b=1\n",
    "Fe12, _ = quad(lambda x: le1(x) * ((x+0.5)**2), a, b)\n",
    "Fe22, _ = quad(lambda x: le2(x) * ((x+0.5)**2), a, b)\n",
    "Fe32, _ = quad(lambda x: le3(x) * ((x+0.5)**2), a, b)\n",
    "\n",
    "# Vetor de força\n",
    "F = np.array([[Fe11, Fe21, Fe31 + Fe12, Fe22, Fe32 ]])\n",
    "\n",
    "print(\"F\", F)\n",
    "# Resolvendo o sistema linear:\n",
    "Us  = np.linalg.solve(m1[1:-1, 1:-1], F[:, 1:-1].flatten())\n",
    "\n",
    "# Reconstrução da solução:\n",
    "\n",
    "def sol_p(x):\n",
    "    return   (-16 * (x)*(x-0.5))*Us[1]+ ((8*(x)*(x-0.25)))*Us[2]\n",
    "\n",
    "def sol_s(x): \n",
    "    return (8*(x-0.75)*(x-1))*Us[0] + (-16*(x-0.5)*(x-1))*Us[2]\n",
    "\n",
    "\n",
    "def elementos_quadraticos_solucao_reconstruida(x):\n",
    "        val = None\n",
    "        if x == 0.5:\n",
    "            val = (sol_p(x)+sol_s(x))/2\n",
    "        elif x < 0.5:\n",
    "            val = sol_p(x)\n",
    "        elif x > 0.5:\n",
    "            val = sol_s(x)\n",
    "        return val\n",
    "\n",
    "\n",
    "print('\\n\\n\\nMatriz de rigidez\\n', m1,'\\n')\n",
    "print(\"Solução: \",(Us))"
   ]
  },
  {
   "cell_type": "code",
   "execution_count": 16,
   "metadata": {},
   "outputs": [],
   "source": [
    "# solução exata\n",
    "def u(x):\n",
    "    return 2 * np.cos(x) + (1 - 2 * np.cos(1)) / np.sin(1) * np.sin(x) + x**2 - 2\n"
   ]
  },
  {
   "cell_type": "markdown",
   "metadata": {},
   "source": [
    "Analise o erro em relação à solução exata e à solução via diferenças finitas. Você pode definir este erro como o desvio quadrático\n",
    "\n",
    "$$\n",
    "\\sum_{i} (u_i^{\\text{aprox}} - u_i^{\\text{exato}})^2\n",
    "$$\n",
    "\n",
    "onde $u_i^{\\text{aprox}}$ é a solução aproximada e $u_i^{\\text{exato}}$ é a solução exata no ponto $i$. <br>\n",
    "\n",
    "E também o erro relativo\n",
    "\n",
    "$$\n",
    "\\sum_{i} \\frac{|u_i^{\\text{aprox}}- u_i^{\\text{exato}}|}{|u_i^{\\text{exato}}|}\n",
    "$$"
   ]
  },
  {
   "cell_type": "code",
   "execution_count": 17,
   "metadata": {},
   "outputs": [
    {
     "name": "stdout",
     "output_type": "stream",
     "text": [
      "5\n",
      "Dados gerados:\n"
     ]
    },
    {
     "data": {
      "text/html": [
       "<div>\n",
       "<style scoped>\n",
       "    .dataframe tbody tr th:only-of-type {\n",
       "        vertical-align: middle;\n",
       "    }\n",
       "\n",
       "    .dataframe tbody tr th {\n",
       "        vertical-align: top;\n",
       "    }\n",
       "\n",
       "    .dataframe thead th {\n",
       "        text-align: right;\n",
       "    }\n",
       "</style>\n",
       "<table border=\"1\" class=\"dataframe\">\n",
       "  <thead>\n",
       "    <tr style=\"text-align: right;\">\n",
       "      <th></th>\n",
       "      <th>Solução Exata</th>\n",
       "      <th>EF com Funções Quadráticas</th>\n",
       "      <th>EF com Funções Lineares</th>\n",
       "      <th>Diferenças Finitas</th>\n",
       "    </tr>\n",
       "  </thead>\n",
       "  <tbody>\n",
       "    <tr>\n",
       "      <th>0</th>\n",
       "      <td>0.000000</td>\n",
       "      <td>0.000000</td>\n",
       "      <td>0.000000</td>\n",
       "      <td>0.000000</td>\n",
       "    </tr>\n",
       "    <tr>\n",
       "      <th>1</th>\n",
       "      <td>-0.023374</td>\n",
       "      <td>-0.023447</td>\n",
       "      <td>-0.023233</td>\n",
       "      <td>-0.022420</td>\n",
       "    </tr>\n",
       "    <tr>\n",
       "      <th>2</th>\n",
       "      <td>-0.040759</td>\n",
       "      <td>-0.040779</td>\n",
       "      <td>-0.040519</td>\n",
       "      <td>-0.039532</td>\n",
       "    </tr>\n",
       "    <tr>\n",
       "      <th>3</th>\n",
       "      <td>-0.039417</td>\n",
       "      <td>-0.039473</td>\n",
       "      <td>-0.039191</td>\n",
       "      <td>-0.038549</td>\n",
       "    </tr>\n",
       "    <tr>\n",
       "      <th>4</th>\n",
       "      <td>0.000000</td>\n",
       "      <td>0.000000</td>\n",
       "      <td>0.000000</td>\n",
       "      <td>0.000000</td>\n",
       "    </tr>\n",
       "  </tbody>\n",
       "</table>\n",
       "</div>"
      ],
      "text/plain": [
       "   Solução Exata  EF com Funções Quadráticas  EF com Funções Lineares  \\\n",
       "0       0.000000                    0.000000                 0.000000   \n",
       "1      -0.023374                   -0.023447                -0.023233   \n",
       "2      -0.040759                   -0.040779                -0.040519   \n",
       "3      -0.039417                   -0.039473                -0.039191   \n",
       "4       0.000000                    0.000000                 0.000000   \n",
       "\n",
       "   Diferenças Finitas  \n",
       "0            0.000000  \n",
       "1           -0.022420  \n",
       "2           -0.039532  \n",
       "3           -0.038549  \n",
       "4            0.000000  "
      ]
     },
     "metadata": {},
     "output_type": "display_data"
    },
    {
     "name": "stdout",
     "output_type": "stream",
     "text": [
      "\n",
      "Erros totais acumulados:\n"
     ]
    },
    {
     "data": {
      "text/html": [
       "<div>\n",
       "<style scoped>\n",
       "    .dataframe tbody tr th:only-of-type {\n",
       "        vertical-align: middle;\n",
       "    }\n",
       "\n",
       "    .dataframe tbody tr th {\n",
       "        vertical-align: top;\n",
       "    }\n",
       "\n",
       "    .dataframe thead th {\n",
       "        text-align: right;\n",
       "    }\n",
       "</style>\n",
       "<table border=\"1\" class=\"dataframe\">\n",
       "  <thead>\n",
       "    <tr style=\"text-align: right;\">\n",
       "      <th></th>\n",
       "      <th>EF com Funções Quadráticas</th>\n",
       "      <th>EF com Funções Lineares</th>\n",
       "      <th>Diferenças Finitas</th>\n",
       "    </tr>\n",
       "  </thead>\n",
       "  <tbody>\n",
       "    <tr>\n",
       "      <th>Desvio quadrático</th>\n",
       "      <td>8.853070e-09</td>\n",
       "      <td>1.280806e-07</td>\n",
       "      <td>0.000003</td>\n",
       "    </tr>\n",
       "    <tr>\n",
       "      <th>Erro Relativo</th>\n",
       "      <td>3.168008e-07</td>\n",
       "      <td>3.545428e-06</td>\n",
       "      <td>0.000095</td>\n",
       "    </tr>\n",
       "  </tbody>\n",
       "</table>\n",
       "</div>"
      ],
      "text/plain": [
       "                   EF com Funções Quadráticas  EF com Funções Lineares  \\\n",
       "Desvio quadrático                8.853070e-09             1.280806e-07   \n",
       "Erro Relativo                    3.168008e-07             3.545428e-06   \n",
       "\n",
       "                   Diferenças Finitas  \n",
       "Desvio quadrático            0.000003  \n",
       "Erro Relativo                0.000095  "
      ]
     },
     "metadata": {},
     "output_type": "display_data"
    },
    {
     "data": {
      "application/vnd.plotly.v1+json": {
       "config": {
        "plotlyServerURL": "https://plot.ly"
       },
       "data": [
        {
         "mode": "markers",
         "name": "Solução Exata",
         "type": "scatter",
         "x": [
          0,
          1,
          2,
          3,
          4
         ],
         "y": [
          0,
          -0.023374013031000285,
          -0.04075910901317625,
          -0.03941652502319304,
          0
         ]
        },
        {
         "mode": "markers",
         "name": "EF com Funções Quadráticas",
         "type": "scatter",
         "x": [
          0,
          1,
          2,
          3,
          4
         ],
         "y": [
          0,
          -0.023446911030803673,
          -0.040779107090749965,
          -0.0394725520564447,
          0
         ]
        },
        {
         "mode": "markers",
         "name": "EF com Funções Lineares",
         "type": "scatter",
         "x": [
          0,
          1,
          2,
          3,
          4
         ],
         "y": [
          0,
          -0.023233457401747357,
          -0.04051948444874745,
          -0.039190904210258004,
          0
         ]
        },
        {
         "mode": "markers",
         "name": "Diferenças Finitas",
         "type": "scatter",
         "x": [
          0,
          1,
          2,
          3,
          4
         ],
         "y": [
          0,
          -0.022419893670522308,
          -0.03953229398663697,
          -0.03854892592858682,
          0
         ]
        }
       ],
       "layout": {
        "height": 500,
        "legend": {
         "title": {
          "text": "Modelos"
         }
        },
        "showlegend": true,
        "template": {
         "data": {
          "bar": [
           {
            "error_x": {
             "color": "#2a3f5f"
            },
            "error_y": {
             "color": "#2a3f5f"
            },
            "marker": {
             "line": {
              "color": "#E5ECF6",
              "width": 0.5
             },
             "pattern": {
              "fillmode": "overlay",
              "size": 10,
              "solidity": 0.2
             }
            },
            "type": "bar"
           }
          ],
          "barpolar": [
           {
            "marker": {
             "line": {
              "color": "#E5ECF6",
              "width": 0.5
             },
             "pattern": {
              "fillmode": "overlay",
              "size": 10,
              "solidity": 0.2
             }
            },
            "type": "barpolar"
           }
          ],
          "carpet": [
           {
            "aaxis": {
             "endlinecolor": "#2a3f5f",
             "gridcolor": "white",
             "linecolor": "white",
             "minorgridcolor": "white",
             "startlinecolor": "#2a3f5f"
            },
            "baxis": {
             "endlinecolor": "#2a3f5f",
             "gridcolor": "white",
             "linecolor": "white",
             "minorgridcolor": "white",
             "startlinecolor": "#2a3f5f"
            },
            "type": "carpet"
           }
          ],
          "choropleth": [
           {
            "colorbar": {
             "outlinewidth": 0,
             "ticks": ""
            },
            "type": "choropleth"
           }
          ],
          "contour": [
           {
            "colorbar": {
             "outlinewidth": 0,
             "ticks": ""
            },
            "colorscale": [
             [
              0,
              "#0d0887"
             ],
             [
              0.1111111111111111,
              "#46039f"
             ],
             [
              0.2222222222222222,
              "#7201a8"
             ],
             [
              0.3333333333333333,
              "#9c179e"
             ],
             [
              0.4444444444444444,
              "#bd3786"
             ],
             [
              0.5555555555555556,
              "#d8576b"
             ],
             [
              0.6666666666666666,
              "#ed7953"
             ],
             [
              0.7777777777777778,
              "#fb9f3a"
             ],
             [
              0.8888888888888888,
              "#fdca26"
             ],
             [
              1,
              "#f0f921"
             ]
            ],
            "type": "contour"
           }
          ],
          "contourcarpet": [
           {
            "colorbar": {
             "outlinewidth": 0,
             "ticks": ""
            },
            "type": "contourcarpet"
           }
          ],
          "heatmap": [
           {
            "colorbar": {
             "outlinewidth": 0,
             "ticks": ""
            },
            "colorscale": [
             [
              0,
              "#0d0887"
             ],
             [
              0.1111111111111111,
              "#46039f"
             ],
             [
              0.2222222222222222,
              "#7201a8"
             ],
             [
              0.3333333333333333,
              "#9c179e"
             ],
             [
              0.4444444444444444,
              "#bd3786"
             ],
             [
              0.5555555555555556,
              "#d8576b"
             ],
             [
              0.6666666666666666,
              "#ed7953"
             ],
             [
              0.7777777777777778,
              "#fb9f3a"
             ],
             [
              0.8888888888888888,
              "#fdca26"
             ],
             [
              1,
              "#f0f921"
             ]
            ],
            "type": "heatmap"
           }
          ],
          "heatmapgl": [
           {
            "colorbar": {
             "outlinewidth": 0,
             "ticks": ""
            },
            "colorscale": [
             [
              0,
              "#0d0887"
             ],
             [
              0.1111111111111111,
              "#46039f"
             ],
             [
              0.2222222222222222,
              "#7201a8"
             ],
             [
              0.3333333333333333,
              "#9c179e"
             ],
             [
              0.4444444444444444,
              "#bd3786"
             ],
             [
              0.5555555555555556,
              "#d8576b"
             ],
             [
              0.6666666666666666,
              "#ed7953"
             ],
             [
              0.7777777777777778,
              "#fb9f3a"
             ],
             [
              0.8888888888888888,
              "#fdca26"
             ],
             [
              1,
              "#f0f921"
             ]
            ],
            "type": "heatmapgl"
           }
          ],
          "histogram": [
           {
            "marker": {
             "pattern": {
              "fillmode": "overlay",
              "size": 10,
              "solidity": 0.2
             }
            },
            "type": "histogram"
           }
          ],
          "histogram2d": [
           {
            "colorbar": {
             "outlinewidth": 0,
             "ticks": ""
            },
            "colorscale": [
             [
              0,
              "#0d0887"
             ],
             [
              0.1111111111111111,
              "#46039f"
             ],
             [
              0.2222222222222222,
              "#7201a8"
             ],
             [
              0.3333333333333333,
              "#9c179e"
             ],
             [
              0.4444444444444444,
              "#bd3786"
             ],
             [
              0.5555555555555556,
              "#d8576b"
             ],
             [
              0.6666666666666666,
              "#ed7953"
             ],
             [
              0.7777777777777778,
              "#fb9f3a"
             ],
             [
              0.8888888888888888,
              "#fdca26"
             ],
             [
              1,
              "#f0f921"
             ]
            ],
            "type": "histogram2d"
           }
          ],
          "histogram2dcontour": [
           {
            "colorbar": {
             "outlinewidth": 0,
             "ticks": ""
            },
            "colorscale": [
             [
              0,
              "#0d0887"
             ],
             [
              0.1111111111111111,
              "#46039f"
             ],
             [
              0.2222222222222222,
              "#7201a8"
             ],
             [
              0.3333333333333333,
              "#9c179e"
             ],
             [
              0.4444444444444444,
              "#bd3786"
             ],
             [
              0.5555555555555556,
              "#d8576b"
             ],
             [
              0.6666666666666666,
              "#ed7953"
             ],
             [
              0.7777777777777778,
              "#fb9f3a"
             ],
             [
              0.8888888888888888,
              "#fdca26"
             ],
             [
              1,
              "#f0f921"
             ]
            ],
            "type": "histogram2dcontour"
           }
          ],
          "mesh3d": [
           {
            "colorbar": {
             "outlinewidth": 0,
             "ticks": ""
            },
            "type": "mesh3d"
           }
          ],
          "parcoords": [
           {
            "line": {
             "colorbar": {
              "outlinewidth": 0,
              "ticks": ""
             }
            },
            "type": "parcoords"
           }
          ],
          "pie": [
           {
            "automargin": true,
            "type": "pie"
           }
          ],
          "scatter": [
           {
            "fillpattern": {
             "fillmode": "overlay",
             "size": 10,
             "solidity": 0.2
            },
            "type": "scatter"
           }
          ],
          "scatter3d": [
           {
            "line": {
             "colorbar": {
              "outlinewidth": 0,
              "ticks": ""
             }
            },
            "marker": {
             "colorbar": {
              "outlinewidth": 0,
              "ticks": ""
             }
            },
            "type": "scatter3d"
           }
          ],
          "scattercarpet": [
           {
            "marker": {
             "colorbar": {
              "outlinewidth": 0,
              "ticks": ""
             }
            },
            "type": "scattercarpet"
           }
          ],
          "scattergeo": [
           {
            "marker": {
             "colorbar": {
              "outlinewidth": 0,
              "ticks": ""
             }
            },
            "type": "scattergeo"
           }
          ],
          "scattergl": [
           {
            "marker": {
             "colorbar": {
              "outlinewidth": 0,
              "ticks": ""
             }
            },
            "type": "scattergl"
           }
          ],
          "scattermapbox": [
           {
            "marker": {
             "colorbar": {
              "outlinewidth": 0,
              "ticks": ""
             }
            },
            "type": "scattermapbox"
           }
          ],
          "scatterpolar": [
           {
            "marker": {
             "colorbar": {
              "outlinewidth": 0,
              "ticks": ""
             }
            },
            "type": "scatterpolar"
           }
          ],
          "scatterpolargl": [
           {
            "marker": {
             "colorbar": {
              "outlinewidth": 0,
              "ticks": ""
             }
            },
            "type": "scatterpolargl"
           }
          ],
          "scatterternary": [
           {
            "marker": {
             "colorbar": {
              "outlinewidth": 0,
              "ticks": ""
             }
            },
            "type": "scatterternary"
           }
          ],
          "surface": [
           {
            "colorbar": {
             "outlinewidth": 0,
             "ticks": ""
            },
            "colorscale": [
             [
              0,
              "#0d0887"
             ],
             [
              0.1111111111111111,
              "#46039f"
             ],
             [
              0.2222222222222222,
              "#7201a8"
             ],
             [
              0.3333333333333333,
              "#9c179e"
             ],
             [
              0.4444444444444444,
              "#bd3786"
             ],
             [
              0.5555555555555556,
              "#d8576b"
             ],
             [
              0.6666666666666666,
              "#ed7953"
             ],
             [
              0.7777777777777778,
              "#fb9f3a"
             ],
             [
              0.8888888888888888,
              "#fdca26"
             ],
             [
              1,
              "#f0f921"
             ]
            ],
            "type": "surface"
           }
          ],
          "table": [
           {
            "cells": {
             "fill": {
              "color": "#EBF0F8"
             },
             "line": {
              "color": "white"
             }
            },
            "header": {
             "fill": {
              "color": "#C8D4E3"
             },
             "line": {
              "color": "white"
             }
            },
            "type": "table"
           }
          ]
         },
         "layout": {
          "annotationdefaults": {
           "arrowcolor": "#2a3f5f",
           "arrowhead": 0,
           "arrowwidth": 1
          },
          "autotypenumbers": "strict",
          "coloraxis": {
           "colorbar": {
            "outlinewidth": 0,
            "ticks": ""
           }
          },
          "colorscale": {
           "diverging": [
            [
             0,
             "#8e0152"
            ],
            [
             0.1,
             "#c51b7d"
            ],
            [
             0.2,
             "#de77ae"
            ],
            [
             0.3,
             "#f1b6da"
            ],
            [
             0.4,
             "#fde0ef"
            ],
            [
             0.5,
             "#f7f7f7"
            ],
            [
             0.6,
             "#e6f5d0"
            ],
            [
             0.7,
             "#b8e186"
            ],
            [
             0.8,
             "#7fbc41"
            ],
            [
             0.9,
             "#4d9221"
            ],
            [
             1,
             "#276419"
            ]
           ],
           "sequential": [
            [
             0,
             "#0d0887"
            ],
            [
             0.1111111111111111,
             "#46039f"
            ],
            [
             0.2222222222222222,
             "#7201a8"
            ],
            [
             0.3333333333333333,
             "#9c179e"
            ],
            [
             0.4444444444444444,
             "#bd3786"
            ],
            [
             0.5555555555555556,
             "#d8576b"
            ],
            [
             0.6666666666666666,
             "#ed7953"
            ],
            [
             0.7777777777777778,
             "#fb9f3a"
            ],
            [
             0.8888888888888888,
             "#fdca26"
            ],
            [
             1,
             "#f0f921"
            ]
           ],
           "sequentialminus": [
            [
             0,
             "#0d0887"
            ],
            [
             0.1111111111111111,
             "#46039f"
            ],
            [
             0.2222222222222222,
             "#7201a8"
            ],
            [
             0.3333333333333333,
             "#9c179e"
            ],
            [
             0.4444444444444444,
             "#bd3786"
            ],
            [
             0.5555555555555556,
             "#d8576b"
            ],
            [
             0.6666666666666666,
             "#ed7953"
            ],
            [
             0.7777777777777778,
             "#fb9f3a"
            ],
            [
             0.8888888888888888,
             "#fdca26"
            ],
            [
             1,
             "#f0f921"
            ]
           ]
          },
          "colorway": [
           "#636efa",
           "#EF553B",
           "#00cc96",
           "#ab63fa",
           "#FFA15A",
           "#19d3f3",
           "#FF6692",
           "#B6E880",
           "#FF97FF",
           "#FECB52"
          ],
          "font": {
           "color": "#2a3f5f"
          },
          "geo": {
           "bgcolor": "white",
           "lakecolor": "white",
           "landcolor": "#E5ECF6",
           "showlakes": true,
           "showland": true,
           "subunitcolor": "white"
          },
          "hoverlabel": {
           "align": "left"
          },
          "hovermode": "closest",
          "mapbox": {
           "style": "light"
          },
          "paper_bgcolor": "white",
          "plot_bgcolor": "#E5ECF6",
          "polar": {
           "angularaxis": {
            "gridcolor": "white",
            "linecolor": "white",
            "ticks": ""
           },
           "bgcolor": "#E5ECF6",
           "radialaxis": {
            "gridcolor": "white",
            "linecolor": "white",
            "ticks": ""
           }
          },
          "scene": {
           "xaxis": {
            "backgroundcolor": "#E5ECF6",
            "gridcolor": "white",
            "gridwidth": 2,
            "linecolor": "white",
            "showbackground": true,
            "ticks": "",
            "zerolinecolor": "white"
           },
           "yaxis": {
            "backgroundcolor": "#E5ECF6",
            "gridcolor": "white",
            "gridwidth": 2,
            "linecolor": "white",
            "showbackground": true,
            "ticks": "",
            "zerolinecolor": "white"
           },
           "zaxis": {
            "backgroundcolor": "#E5ECF6",
            "gridcolor": "white",
            "gridwidth": 2,
            "linecolor": "white",
            "showbackground": true,
            "ticks": "",
            "zerolinecolor": "white"
           }
          },
          "shapedefaults": {
           "line": {
            "color": "#2a3f5f"
           }
          },
          "ternary": {
           "aaxis": {
            "gridcolor": "white",
            "linecolor": "white",
            "ticks": ""
           },
           "baxis": {
            "gridcolor": "white",
            "linecolor": "white",
            "ticks": ""
           },
           "bgcolor": "#E5ECF6",
           "caxis": {
            "gridcolor": "white",
            "linecolor": "white",
            "ticks": ""
           }
          },
          "title": {
           "x": 0.05
          },
          "xaxis": {
           "automargin": true,
           "gridcolor": "white",
           "linecolor": "white",
           "ticks": "",
           "title": {
            "standoff": 15
           },
           "zerolinecolor": "white",
           "zerolinewidth": 2
          },
          "yaxis": {
           "automargin": true,
           "gridcolor": "white",
           "linecolor": "white",
           "ticks": "",
           "title": {
            "standoff": 15
           },
           "zerolinecolor": "white",
           "zerolinewidth": 2
          }
         }
        },
        "title": {
         "text": "Comparação de cada modelo"
        },
        "width": 1200,
        "xaxis": {
         "showgrid": true,
         "title": {
          "text": "Índices"
         }
        },
        "yaxis": {
         "showgrid": true,
         "title": {
          "text": "Valores"
         }
        }
       }
      }
     },
     "metadata": {},
     "output_type": "display_data"
    }
   ],
   "source": [
    "def erros(exato, aprox):\n",
    "    absoluto = abs(aprox - exato)**2\n",
    "    relativo = absoluto / abs(exato) if exato != 0 else 0\n",
    "    return absoluto, relativo\n",
    "\n",
    "\n",
    "def tablet(qtd):\n",
    "\n",
    "    tam = 1 / qtd\n",
    "    cont = np.arange(0, 1+tam, tam)\n",
    "    exata = [u(i) for i in cont]\n",
    "    quadratica = [0] + Us.tolist() + [0]\n",
    "\n",
    "    diferencas_finitas = [0] + dif_finit(N=qtd) + [0]\n",
    "    lienares_sol = [0] + elementos_lienares(qtd) + [0]\n",
    "\n",
    "    len_exata = len(exata)\n",
    "    len_quadratica = len(quadratica)\n",
    "    len_diferencas_finitas = len(diferencas_finitas)\n",
    "    len_lienares_sol = len(lienares_sol)\n",
    "\n",
    "    print(len_lienares_sol)\n",
    "\n",
    "    if not (len_exata == len_quadratica == len_diferencas_finitas == len_lienares_sol):\n",
    "        raise ValueError(\"As listas têm tamanhos diferentes.\")\n",
    "    \n",
    "    \n",
    "    data_com = pd.DataFrame({\n",
    "        'Solução Exata': exata,\n",
    "        'EF com Funções Quadráticas': quadratica,\n",
    "        'EF com Funções Lineares': lienares_sol,\n",
    "        'Diferenças Finitas': diferencas_finitas\n",
    "    })\n",
    "\n",
    "    errors = {}\n",
    "    exact_column = 'Solução Exata'\n",
    "\n",
    "    for column in data_com.columns:\n",
    "        if column != exact_column:\n",
    "            absolute_errors = []\n",
    "            relative_errors = []\n",
    "            for exato, aprox in zip(data_com[exact_column], data_com[column]):\n",
    "                abs_error, rel_error = erros(exato, aprox)\n",
    "                absolute_errors.append(abs_error)\n",
    "                relative_errors.append(rel_error)\n",
    "            errors[column] = {\n",
    "                'Desvio quadrático': sum(absolute_errors),\n",
    "                'Erro Relativo': sum(relative_errors)  \n",
    "            }\n",
    "\n",
    " \n",
    "    sum_errors_df = pd.DataFrame(errors)\n",
    "    print(\"Dados gerados:\")\n",
    "    display(data_com)\n",
    "    print(\"\\nErros totais acumulados:\")\n",
    "    display(sum_errors_df)\n",
    "\n",
    "    fig = go.Figure()\n",
    "\n",
    "    for column in data_com.columns:\n",
    "        fig.add_trace(go.Scatter(x=data_com.index, y=data_com[column], mode='markers', name=column))\n",
    "\n",
    "   \n",
    "    fig.update_layout(\n",
    "        title='Comparação de cada modelo',\n",
    "        xaxis_title='Índices',\n",
    "        yaxis_title='Valores',\n",
    "        legend=dict(\n",
    "            title='Modelos'\n",
    "        ),\n",
    "        showlegend=True,\n",
    "        xaxis=dict(showgrid=True),  \n",
    "        yaxis=dict(showgrid=True) ,\n",
    "        width=1200,  # Definindo a largura em pixels\n",
    "        height=500\n",
    "    )\n",
    "\n",
    "    fig.show()\n",
    "\n",
    "tablet(qtd=4)  "
   ]
  }
 ],
 "metadata": {
  "kernelspec": {
   "display_name": "Python 3",
   "language": "python",
   "name": "python3"
  },
  "language_info": {
   "codemirror_mode": {
    "name": "ipython",
    "version": 3
   },
   "file_extension": ".py",
   "mimetype": "text/x-python",
   "name": "python",
   "nbconvert_exporter": "python",
   "pygments_lexer": "ipython3",
   "version": "3.11.1"
  }
 },
 "nbformat": 4,
 "nbformat_minor": 2
}
